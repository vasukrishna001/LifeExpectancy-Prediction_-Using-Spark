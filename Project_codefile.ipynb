{
  "nbformat": 4,
  "nbformat_minor": 0,
  "metadata": {
    "colab": {
      "provenance": []
    },
    "kernelspec": {
      "name": "python3",
      "display_name": "Python 3"
    },
    "language_info": {
      "name": "python"
    }
  },
  "cells": [
    {
      "cell_type": "code",
      "source": [
        "# Imported the required libraries\n",
        "from pyspark.sql import SparkSession\n",
        "from pyspark.sql import SparkSession\n",
        "from pyspark.sql import functions as fun\n",
        "from pyspark.sql.window import Window\n",
        "from pyspark.ml.feature import MinMaxScaler, VectorAssembler, StringIndexer\n",
        "from pyspark.sql.functions import col\n",
        "\n",
        "\n",
        "\n"
      ],
      "metadata": {
        "id": "rjzliQjh37xT"
      },
      "execution_count": null,
      "outputs": []
    },
    {
      "cell_type": "code",
      "source": [
        "from pyspark.ml.evaluation import RegressionEvaluator\n",
        "from pyspark.ml.evaluation import MulticlassClassificationEvaluator\n"
      ],
      "metadata": {
        "id": "5kTL5gTVbYjB"
      },
      "execution_count": null,
      "outputs": []
    },
    {
      "cell_type": "code",
      "source": [
        "# Initialization of SparkApache\n",
        "spark = SparkSession.builder.appName(\"LifeExpectancyAnalysis\").config(\"spark.some.config.option\", \"some-value\").getOrCreate()"
      ],
      "metadata": {
        "id": "4Jx00NgcNzwc"
      },
      "execution_count": null,
      "outputs": []
    },
    {
      "cell_type": "code",
      "source": [
        "Path_file = \"/content/Life Expectancy Data.csv\"\n",
        "# Loading dataset\n",
        "df=spark.read.csv(Path_file, header=True, inferSchema=True)\n",
        "# Displaying the schema\n",
        "df.printSchema()\n",
        "# Displaying the first few rows\n",
        "df.show(5)\n",
        "# Displaying the statistics\n",
        "df2=df.describe()\n",
        "df2.show()"
      ],
      "metadata": {
        "colab": {
          "base_uri": "https://localhost:8080/"
        },
        "id": "OMp7DMNU37rh",
        "outputId": "af13d25c-8d3b-4611-a313-c69d09e515af"
      },
      "execution_count": null,
      "outputs": [
        {
          "output_type": "stream",
          "name": "stdout",
          "text": [
            "root\n",
            " |-- Country: string (nullable = true)\n",
            " |-- Year: integer (nullable = true)\n",
            " |-- Status: string (nullable = true)\n",
            " |-- Life expectancy : double (nullable = true)\n",
            " |-- Adult Mortality: integer (nullable = true)\n",
            " |-- infant deaths: integer (nullable = true)\n",
            " |-- Alcohol: double (nullable = true)\n",
            " |-- percentage expenditure: double (nullable = true)\n",
            " |-- Hepatitis B: integer (nullable = true)\n",
            " |-- Measles : integer (nullable = true)\n",
            " |--  BMI : double (nullable = true)\n",
            " |-- under-five deaths : integer (nullable = true)\n",
            " |-- Polio: integer (nullable = true)\n",
            " |-- Total expenditure: double (nullable = true)\n",
            " |-- Diphtheria : integer (nullable = true)\n",
            " |--  HIV/AIDS: double (nullable = true)\n",
            " |-- GDP: double (nullable = true)\n",
            " |-- Population: double (nullable = true)\n",
            " |--  thinness  1-19 years: double (nullable = true)\n",
            " |--  thinness 5-9 years: double (nullable = true)\n",
            " |-- Income composition of resources: double (nullable = true)\n",
            " |-- Schooling: double (nullable = true)\n",
            "\n",
            "+-----------+----+----------+----------------+---------------+-------------+-------+----------------------+-----------+--------+-----+------------------+-----+-----------------+-----------+---------+----------+-----------+---------------------+-------------------+-------------------------------+---------+\n",
            "|    Country|Year|    Status|Life expectancy |Adult Mortality|infant deaths|Alcohol|percentage expenditure|Hepatitis B|Measles | BMI |under-five deaths |Polio|Total expenditure|Diphtheria | HIV/AIDS|       GDP| Population| thinness  1-19 years| thinness 5-9 years|Income composition of resources|Schooling|\n",
            "+-----------+----+----------+----------------+---------------+-------------+-------+----------------------+-----------+--------+-----+------------------+-----+-----------------+-----------+---------+----------+-----------+---------------------+-------------------+-------------------------------+---------+\n",
            "|Afghanistan|2015|Developing|            65.0|            263|           62|   0.01|           71.27962362|         65|    1154| 19.1|                83|    6|             8.16|         65|      0.1| 584.25921|3.3736494E7|                 17.2|               17.3|                          0.479|     10.1|\n",
            "|Afghanistan|2014|Developing|            59.9|            271|           64|   0.01|           73.52358168|         62|     492| 18.6|                86|   58|             8.18|         62|      0.1|612.696514|   327582.0|                 17.5|               17.5|                          0.476|     10.0|\n",
            "|Afghanistan|2013|Developing|            59.9|            268|           66|   0.01|           73.21924272|         64|     430| 18.1|                89|   62|             8.13|         64|      0.1|631.744976|3.1731688E7|                 17.7|               17.7|                           0.47|      9.9|\n",
            "|Afghanistan|2012|Developing|            59.5|            272|           69|   0.01|            78.1842153|         67|    2787| 17.6|                93|   67|             8.52|         67|      0.1|   669.959|  3696958.0|                 17.9|               18.0|                          0.463|      9.8|\n",
            "|Afghanistan|2011|Developing|            59.2|            275|           71|   0.01|           7.097108703|         68|    3013| 17.2|                97|   68|             7.87|         68|      0.1| 63.537231|  2978599.0|                 18.2|               18.2|                          0.454|      9.5|\n",
            "+-----------+----+----------+----------------+---------------+-------------+-------+----------------------+-----------+--------+-----+------------------+-----+-----------------+-----------+---------+----------+-----------+---------------------+-------------------+-------------------------------+---------+\n",
            "only showing top 5 rows\n",
            "\n",
            "+-------+-----------+------------------+----------+-----------------+------------------+------------------+------------------+----------------------+------------------+------------------+------------------+------------------+------------------+------------------+-----------------+------------------+------------------+--------------------+---------------------+-------------------+-------------------------------+------------------+\n",
            "|summary|    Country|              Year|    Status| Life expectancy |   Adult Mortality|     infant deaths|           Alcohol|percentage expenditure|       Hepatitis B|          Measles |              BMI |under-five deaths |             Polio| Total expenditure|      Diphtheria |          HIV/AIDS|               GDP|          Population| thinness  1-19 years| thinness 5-9 years|Income composition of resources|         Schooling|\n",
            "+-------+-----------+------------------+----------+-----------------+------------------+------------------+------------------+----------------------+------------------+------------------+------------------+------------------+------------------+------------------+-----------------+------------------+------------------+--------------------+---------------------+-------------------+-------------------------------+------------------+\n",
            "|  count|       2938|              2938|      2938|             2928|              2928|              2938|              2744|                  2938|              2385|              2938|              2904|              2938|              2919|              2712|             2919|              2938|              2490|                2286|                 2904|               2904|                           2771|              2775|\n",
            "|   mean|       NULL|2007.5187202178352|      NULL|69.22493169398912|164.79644808743168|30.303948264125257|4.6028607871720375|     738.2512954533823| 80.94046121593291|2419.5922396187884| 38.32124655647373|  42.0357385976855| 82.55018842069202|5.9381895280235915|82.32408359027065|1.7421034717494939| 7483.158469138481|1.2753375120052498E7|   4.8397038567493205|  4.870316804407711|             0.6275510645976166|11.992792792792786|\n",
            "| stddev|       NULL| 4.613840940258099|      NULL|9.523867487824305| 124.2920790034219|117.92650131339906| 4.052412658755658|     1987.914858016194|25.070015593018063| 11467.27248923461|20.044033502562083| 160.4455484057337|23.428045949468476| 2.498319672155633| 23.7169120685726| 5.077784531086547|14270.169341515959| 6.101209650842794E7|    4.420194947144322|  4.508882086983007|             0.2109035551515931|3.3589197211023554|\n",
            "|    min|Afghanistan|              2000| Developed|             36.3|                 1|                 0|              0.01|                   0.0|                 1|                 0|               1.0|                 0|                 3|              0.37|                2|               0.1|           1.68135|                34.0|                  0.1|                0.1|                            0.0|               0.0|\n",
            "|    max|   Zimbabwe|              2015|Developing|             89.0|               723|              1800|             17.87|           19479.91161|                99|            212183|              87.3|              2500|                99|              17.6|               99|              50.6|       119172.7418|       1.293859294E9|                 27.7|               28.6|                          0.948|              20.7|\n",
            "+-------+-----------+------------------+----------+-----------------+------------------+------------------+------------------+----------------------+------------------+------------------+------------------+------------------+------------------+------------------+-----------------+------------------+------------------+--------------------+---------------------+-------------------+-------------------------------+------------------+\n",
            "\n"
          ]
        }
      ]
    },
    {
      "cell_type": "markdown",
      "source": [
        "Data Cleaning and Pre Processing\n"
      ],
      "metadata": {
        "id": "5OWnZS0LQ8JF"
      }
    },
    {
      "cell_type": "code",
      "source": [
        "# 1)removing Duplicates\n",
        "spark_df= df.dropDuplicates()"
      ],
      "metadata": {
        "id": "CQSVkW8O37lo"
      },
      "execution_count": null,
      "outputs": []
    },
    {
      "cell_type": "code",
      "source": [
        "# 2)Missing value handling using mean for filling\n",
        "\n",
        "#EMPTY LIST\n",
        "num_list = []\n",
        "# Iterate throughout the dataframe\n",
        "for i, j in spark_df.dtypes:\n",
        "    # Check if the column type is numeric\n",
        "    if j in ['int', 'double', 'float']:\n",
        "        num_list.append(i)\n",
        "\n"
      ],
      "metadata": {
        "id": "BTerKQuE37ir"
      },
      "execution_count": null,
      "outputs": []
    },
    {
      "cell_type": "code",
      "source": [
        "for i in num_list:\n",
        "    mean_value = spark_df.select(fun.mean(fun.col(i))).first()[0]\n",
        "    spark_df = spark_df.fillna({i: mean_value})"
      ],
      "metadata": {
        "id": "ua-ZIrDXUXec"
      },
      "execution_count": null,
      "outputs": []
    },
    {
      "cell_type": "code",
      "source": [
        "spark_df.show(10)"
      ],
      "metadata": {
        "colab": {
          "base_uri": "https://localhost:8080/"
        },
        "id": "Ro0gNrhpeEJv",
        "outputId": "260a5908-5b78-423d-b7a3-b41d588fc882"
      },
      "execution_count": null,
      "outputs": [
        {
          "output_type": "stream",
          "name": "stdout",
          "text": [
            "+------------+----+----------+----------------+---------------+-------------+-------+----------------------+-----------+--------+-----+------------------+-----+-----------------+-----------+---------+-----------+-----------+---------------------+-------------------+-------------------------------+---------+\n",
            "|     Country|Year|    Status|Life expectancy |Adult Mortality|infant deaths|Alcohol|percentage expenditure|Hepatitis B|Measles | BMI |under-five deaths |Polio|Total expenditure|Diphtheria | HIV/AIDS|        GDP| Population| thinness  1-19 years| thinness 5-9 years|Income composition of resources|Schooling|\n",
            "+------------+----+----------+----------------+---------------+-------------+-------+----------------------+-----------+--------+-----+------------------+-----+-----------------+-----------+---------+-----------+-----------+---------------------+-------------------+-------------------------------+---------+\n",
            "| Afghanistan|2015|Developing|            65.0|            263|           62|   0.01|           71.27962362|         65|    1154| 19.1|                83|    6|             8.16|         65|      0.1|  584.25921|3.3736494E7|                 17.2|               17.3|                          0.479|     10.1|\n",
            "|      France|2007|Developing|            89.0|             89|            3|   12.2|           64.73714894|         42|      39| 58.6|                 3|   99|             1.45|         98|      0.1|  416.58397|  6416229.0|                  0.6|                0.6|                          0.873|     16.1|\n",
            "|       Italy|2008| Developed|            81.5|             61|            2|   7.96|           66.37840495|         96|    1617| 59.9|                 2|   96|             8.89|         96|      0.1|  464.18465|5.8826731E7|                  0.5|                0.5|                          0.866|     16.3|\n",
            "|      Panama|2014|Developing|            77.6|            119|            1|   6.74|           1842.463782|          8|       0| 57.1|                 1|    8|              8.3|          8|      0.1| 12593.7374|   393986.0|                  1.9|                1.8|                           0.78|     13.0|\n",
            "|      Rwanda|2005|Developing|            55.3|             37|           24|   7.01|           39.44666715|         95|     129| 15.4|                38|   95|             6.83|         95|      7.1| 287.931877|  8991735.0|                  6.8|                7.0|                          0.388|      8.8|\n",
            "|    Suriname|2013|Developing|            71.2|            179|            0|   6.02|           1122.972967|         86|       0| 57.0|                 0|   86|             5.96|         86|      0.4| 9484.56898|    54254.0|                  3.5|                3.5|                          0.719|     12.7|\n",
            "|Burkina Faso|2014|Developing|            59.3|            268|           39|   0.01|           8.386339501|         91|     343| 18.8|                63|   91|             4.96|         91|      0.6| 75.1464113|1.7585977E7|                  8.2|                7.7|                          0.398|      7.7|\n",
            "|       Chile|2006|Developing|            78.9|             91|            2|   7.33|           1275.689625|         95|       0| 58.1|                 2|   94|             6.18|         94|      0.1|9484.681227|1.6319792E7|                  0.9|                0.9|                          0.796|     14.9|\n",
            "|     Germany|2009| Developed|            80.0|             79|            2|  11.22|           7641.270645|         88|     574| 59.5|                 3|   95|             11.4|         96|      0.1| 41732.7725|   819237.0|                  1.1|                1.1|                          0.906|     16.7|\n",
            "|      Greece|2007|Developing|            79.4|              8|            0|   9.67|           3632.243121|         95|       2| 61.8|                 0|   99|             9.41|         99|      0.1|28827.32636|  1148473.0|                  0.8|                0.7|                          0.855|     16.4|\n",
            "+------------+----+----------+----------------+---------------+-------------+-------+----------------------+-----------+--------+-----+------------------+-----+-----------------+-----------+---------+-----------+-----------+---------------------+-------------------+-------------------------------+---------+\n",
            "only showing top 10 rows\n",
            "\n"
          ]
        }
      ]
    },
    {
      "cell_type": "code",
      "source": [
        "# Renaming the columns (removing the spaces)\n",
        "# Empty list\n",
        "re_col = []\n",
        "# Iterating the all column names\n",
        "for k in spark_df.columns:\n",
        "    # removing spaces and replacing with underscrolls\n",
        "    renamed_col = col(k).alias(k.strip().replace(\" \", \"_\"))\n",
        "    re_col.append(renamed_col)\n",
        "# Seeting the remaned names of columns in DF\n",
        "spark_df = spark_df.select(re_col)\n",
        "#displaying to verify\n",
        "print(spark_df.columns)\n"
      ],
      "metadata": {
        "colab": {
          "base_uri": "https://localhost:8080/"
        },
        "id": "Iex8AMyggR_j",
        "outputId": "db2d08ae-daed-4677-837d-b2a5d0b5fe71"
      },
      "execution_count": null,
      "outputs": [
        {
          "output_type": "stream",
          "name": "stdout",
          "text": [
            "['Country', 'Year', 'Status', 'Life_expectancy', 'Adult_Mortality', 'infant_deaths', 'Alcohol', 'percentage_expenditure', 'Hepatitis_B', 'Measles', 'BMI', 'under-five_deaths', 'Polio', 'Total_expenditure', 'Diphtheria', 'HIV/AIDS', 'GDP', 'Population', 'thinness__1-19_years', 'thinness_5-9_years', 'Income_composition_of_resources', 'Schooling']\n"
          ]
        }
      ]
    },
    {
      "cell_type": "code",
      "source": [
        "con_cols = ['Life_expectancy','Alcohol','BMI','percentage_expenditure']\n",
        "assemb = VectorAssembler(inputCols=con_cols,outputCol=\"feature_vectors\")\n",
        "scaling = MinMaxScaler(inputCol=\"feature_vectors\",outputCol=\"features_scaled\")"
      ],
      "metadata": {
        "id": "eXnBlSVh37fw"
      },
      "execution_count": null,
      "outputs": []
    },
    {
      "cell_type": "code",
      "source": [
        "assem_data = assemb.transform(spark_df)\n",
        "scaling_df = scaling.fit(assem_data).transform(assem_data)\n"
      ],
      "metadata": {
        "id": "niTUWUlugv9f"
      },
      "execution_count": null,
      "outputs": []
    },
    {
      "cell_type": "code",
      "source": [
        "scaling_df.show(20)"
      ],
      "metadata": {
        "colab": {
          "base_uri": "https://localhost:8080/"
        },
        "id": "QLEyscDlXB_7",
        "outputId": "77130c99-55d5-4fec-8552-2b8591da8d57"
      },
      "execution_count": null,
      "outputs": [
        {
          "output_type": "stream",
          "name": "stdout",
          "text": [
            "+--------------------+----+----------+---------------+---------------+-------------+-------+----------------------+-----------+-------+----+-----------------+-----+-----------------+----------+--------+-----------+-----------+--------------------+------------------+-------------------------------+---------+--------------------+--------------------+\n",
            "|             Country|Year|    Status|Life_expectancy|Adult_Mortality|infant_deaths|Alcohol|percentage_expenditure|Hepatitis_B|Measles| BMI|under-five_deaths|Polio|Total_expenditure|Diphtheria|HIV/AIDS|        GDP| Population|thinness__1-19_years|thinness_5-9_years|Income_composition_of_resources|Schooling|     feature_vectors|     features_scaled|\n",
            "+--------------------+----+----------+---------------+---------------+-------------+-------+----------------------+-----------+-------+----+-----------------+-----+-----------------+----------+--------+-----------+-----------+--------------------+------------------+-------------------------------+---------+--------------------+--------------------+\n",
            "|         Afghanistan|2015|Developing|           65.0|            263|           62|   0.01|           71.27962362|         65|   1154|19.1|               83|    6|             8.16|        65|     0.1|  584.25921|3.3736494E7|                17.2|              17.3|                          0.479|     10.1|[65.0,0.01,19.1,7...|[0.54459203036053...|\n",
            "|              France|2007|Developing|           89.0|             89|            3|   12.2|           64.73714894|         42|     39|58.6|                3|   99|             1.45|        98|     0.1|  416.58397|  6416229.0|                 0.6|               0.6|                          0.873|     16.1|[89.0,12.2,58.6,6...|[1.0,0.6825307950...|\n",
            "|               Italy|2008| Developed|           81.5|             61|            2|   7.96|           66.37840495|         96|   1617|59.9|                2|   96|             8.89|        96|     0.1|  464.18465|5.8826731E7|                 0.5|               0.5|                          0.866|     16.3|[81.5,7.96,59.9,6...|[0.85768500948766...|\n",
            "|              Panama|2014|Developing|           77.6|            119|            1|   6.74|           1842.463782|          8|      0|57.1|                1|    8|              8.3|         8|     0.1| 12593.7374|   393986.0|                 1.9|               1.8|                           0.78|     13.0|[77.6,6.74,57.1,1...|[0.78368121442125...|\n",
            "|              Rwanda|2005|Developing|           55.3|             37|           24|   7.01|           39.44666715|         95|    129|15.4|               38|   95|             6.83|        95|     7.1| 287.931877|  8991735.0|                 6.8|               7.0|                          0.388|      8.8|[55.3,7.01,15.4,3...|[0.36053130929791...|\n",
            "|            Suriname|2013|Developing|           71.2|            179|            0|   6.02|           1122.972967|         86|      0|57.0|                0|   86|             5.96|        86|     0.4| 9484.56898|    54254.0|                 3.5|               3.5|                          0.719|     12.7|[71.2,6.02,57.0,1...|[0.66223908918406...|\n",
            "|        Burkina Faso|2014|Developing|           59.3|            268|           39|   0.01|           8.386339501|         91|    343|18.8|               63|   91|             4.96|        91|     0.6| 75.1464113|1.7585977E7|                 8.2|               7.7|                          0.398|      7.7|[59.3,0.01,18.8,8...|[0.43643263757115...|\n",
            "|               Chile|2006|Developing|           78.9|             91|            2|   7.33|           1275.689625|         95|      0|58.1|                2|   94|             6.18|        94|     0.1|9484.681227|1.6319792E7|                 0.9|               0.9|                          0.796|     14.9|[78.9,7.33,58.1,1...|[0.80834914611005...|\n",
            "|             Germany|2009| Developed|           80.0|             79|            2|  11.22|           7641.270645|         88|    574|59.5|                3|   95|             11.4|        96|     0.1| 41732.7725|   819237.0|                 1.1|               1.1|                          0.906|     16.7|[80.0,11.22,59.5,...|[0.82922201138519...|\n",
            "|              Greece|2007|Developing|           79.4|              8|            0|   9.67|           3632.243121|         95|      2|61.8|                0|   99|             9.41|        99|     0.1|28827.32636|  1148473.0|                 0.8|               0.7|                          0.855|     16.4|[79.4,9.67,61.8,3...|[0.81783681214421...|\n",
            "|          Madagascar|2012|Developing|           64.3|            235|           30|   0.87|           59.97914461|          7|      2|19.0|               42|   71|             3.46|         7|     0.4|   443.9611|2.2346573E7|                 7.4|               7.3|                          0.506|     10.2|[64.3,0.87,19.0,5...|[0.53130929791271...|\n",
            "|            Maldives|2008|Developing|           75.9|             81|            0|   1.76|           1077.712092|         98|      0| 2.3|                0|   98|              9.3|        98|     0.1|5828.621374|      362.0|                14.2|              14.3|                          0.641|     11.8|[75.9,1.76,2.3,10...|[0.75142314990512...|\n",
            "|          Mauritania|2011|Developing|           62.2|            212|            8|   0.01|           79.27658464|         75|    234|28.1|               12|   73|             2.87|        75|     1.2|1393.261593|  3717672.0|                 8.5|               8.3|                          0.487|      7.7|[62.2,0.01,28.1,7...|[0.49146110056926...|\n",
            "|               Niger|2014|Developing|           61.4|            223|           49|   0.01|           3.304039899|         68|   1142|18.9|               88|   67|             5.82|        68|     0.5|  43.646498|1.9148219E7|                 9.8|               9.6|                          0.345|      5.3|[61.4,0.01,18.9,3...|[0.47628083491461...|\n",
            "|             Romania|2009| Developed|           73.1|            158|            2|   10.4|           14.96373588|         95|      8|56.3|                3|   95|             5.56|        95|     0.1|  822.18329|  2367487.0|                 3.0|               3.3|                          0.795|     15.4|[73.1,10.4,56.3,1...|[0.69829222011385...|\n",
            "|  Russian Federation|2013|Developing|           70.0|            229|           14|  10.58|           1529.497771|         97|   2339|59.3|               16|   98|              7.9|        97|     0.2|15543.67653|1.4356911E7|                 2.3|               2.3|                          0.799|     14.6|[70.0,10.58,59.3,...|[0.63946869070208...|\n",
            "|Sao Tome and Prin...|2011|Developing|           66.6|            198|            0|   5.69|           7.495401346|         96|      0|27.7|                0|   96|             5.44|        96|     0.5| 134.326189|     1788.0|                 6.0|               5.9|                          0.546|     10.6|[66.6,5.69,27.7,7...|[0.57495256166982...|\n",
            "| Trinidad and Tobago|2012|Developing|           78.0|            174|            0|    6.7|           1486.236406|         92|      0|44.0|                0|   91|             5.78|        92|     0.4|  19152.531|  1341588.0|                 5.9|               6.1|                          0.772|     12.6|[78.0,6.7,44.0,14...|[0.79127134724857...|\n",
            "|           Australia|2004| Developed|           86.0|             69|            1|   9.84|            588.568371|         95|     70| 6.9|                1|   92|             8.57|        92|     0.1| 3472.37977|    21274.0|                 0.7|               0.6|                          0.908|     20.7|[86.0,9.84,6.9,58...|[0.94307400379506...|\n",
            "|          Azerbaijan|2013|Developing|           72.2|            121|            5|   2.14|           275.6514934|         93|    164| 5.6|                6|   96|             5.54|        93|     0.1|7875.756953|   941681.0|                 2.8|               2.8|                          0.745|     11.9|[72.2,2.14,5.6,27...|[0.68121442125237...|\n",
            "+--------------------+----+----------+---------------+---------------+-------------+-------+----------------------+-----------+-------+----+-----------------+-----+-----------------+----------+--------+-----------+-----------+--------------------+------------------+-------------------------------+---------+--------------------+--------------------+\n",
            "only showing top 20 rows\n",
            "\n"
          ]
        }
      ]
    },
    {
      "cell_type": "code",
      "source": [
        "# 4. Filtering the Outliers\n",
        "# deleting the rows for \"Life Expectancy\" that have values greater than three standard deviations from the mean.\n",
        "sd = spark_df.select(fun.stddev(\"Life_expectancy\")).first()[0]\n",
        "mean_s = spark_df.select(fun.mean(\"Life_expectancy\")).first()[0]\n",
        "spark_df = spark_df.filter((fun.col(\"Life_expectancy\") >= mean_s - 3 * sd) & (fun.col(\"Life_expectancy\") <= mean_s + 3 * sd)\n",
        ")"
      ],
      "metadata": {
        "id": "L1TUptyL37aF"
      },
      "execution_count": null,
      "outputs": []
    },
    {
      "cell_type": "code",
      "source": [
        "spark_df.show(10)"
      ],
      "metadata": {
        "colab": {
          "base_uri": "https://localhost:8080/"
        },
        "id": "hynP95EfY_S8",
        "outputId": "892fbee0-78ba-4985-d829-a04d457f423f"
      },
      "execution_count": null,
      "outputs": [
        {
          "output_type": "stream",
          "name": "stdout",
          "text": [
            "+------------+----+----------+---------------+---------------+-------------+-------+----------------------+-----------+-------+----+-----------------+-----+-----------------+----------+--------+-----------+-----------+--------------------+------------------+-------------------------------+---------+\n",
            "|     Country|Year|    Status|Life_expectancy|Adult_Mortality|infant_deaths|Alcohol|percentage_expenditure|Hepatitis_B|Measles| BMI|under-five_deaths|Polio|Total_expenditure|Diphtheria|HIV/AIDS|        GDP| Population|thinness__1-19_years|thinness_5-9_years|Income_composition_of_resources|Schooling|\n",
            "+------------+----+----------+---------------+---------------+-------------+-------+----------------------+-----------+-------+----+-----------------+-----+-----------------+----------+--------+-----------+-----------+--------------------+------------------+-------------------------------+---------+\n",
            "| Afghanistan|2015|Developing|           65.0|            263|           62|   0.01|           71.27962362|         65|   1154|19.1|               83|    6|             8.16|        65|     0.1|  584.25921|3.3736494E7|                17.2|              17.3|                          0.479|     10.1|\n",
            "|      France|2007|Developing|           89.0|             89|            3|   12.2|           64.73714894|         42|     39|58.6|                3|   99|             1.45|        98|     0.1|  416.58397|  6416229.0|                 0.6|               0.6|                          0.873|     16.1|\n",
            "|       Italy|2008| Developed|           81.5|             61|            2|   7.96|           66.37840495|         96|   1617|59.9|                2|   96|             8.89|        96|     0.1|  464.18465|5.8826731E7|                 0.5|               0.5|                          0.866|     16.3|\n",
            "|      Panama|2014|Developing|           77.6|            119|            1|   6.74|           1842.463782|          8|      0|57.1|                1|    8|              8.3|         8|     0.1| 12593.7374|   393986.0|                 1.9|               1.8|                           0.78|     13.0|\n",
            "|      Rwanda|2005|Developing|           55.3|             37|           24|   7.01|           39.44666715|         95|    129|15.4|               38|   95|             6.83|        95|     7.1| 287.931877|  8991735.0|                 6.8|               7.0|                          0.388|      8.8|\n",
            "|    Suriname|2013|Developing|           71.2|            179|            0|   6.02|           1122.972967|         86|      0|57.0|                0|   86|             5.96|        86|     0.4| 9484.56898|    54254.0|                 3.5|               3.5|                          0.719|     12.7|\n",
            "|Burkina Faso|2014|Developing|           59.3|            268|           39|   0.01|           8.386339501|         91|    343|18.8|               63|   91|             4.96|        91|     0.6| 75.1464113|1.7585977E7|                 8.2|               7.7|                          0.398|      7.7|\n",
            "|       Chile|2006|Developing|           78.9|             91|            2|   7.33|           1275.689625|         95|      0|58.1|                2|   94|             6.18|        94|     0.1|9484.681227|1.6319792E7|                 0.9|               0.9|                          0.796|     14.9|\n",
            "|     Germany|2009| Developed|           80.0|             79|            2|  11.22|           7641.270645|         88|    574|59.5|                3|   95|             11.4|        96|     0.1| 41732.7725|   819237.0|                 1.1|               1.1|                          0.906|     16.7|\n",
            "|      Greece|2007|Developing|           79.4|              8|            0|   9.67|           3632.243121|         95|      2|61.8|                0|   99|             9.41|        99|     0.1|28827.32636|  1148473.0|                 0.8|               0.7|                          0.855|     16.4|\n",
            "+------------+----+----------+---------------+---------------+-------------+-------+----------------------+-----------+-------+----+-----------------+-----+-----------------+----------+--------+-----------+-----------+--------------------+------------------+-------------------------------+---------+\n",
            "only showing top 10 rows\n",
            "\n"
          ]
        }
      ]
    },
    {
      "cell_type": "code",
      "source": [
        "# 5. Transforming feature using log\n",
        "# for skewed columns like \"Measles\" (adding 1 for avoiding log(0))\n",
        "spark_df = spark_df.withColumn(\"log_measles\", fun.log(fun.col(\"Measles\") + 1))"
      ],
      "metadata": {
        "id": "2ZOw-lSI37Xh"
      },
      "execution_count": null,
      "outputs": []
    },
    {
      "cell_type": "code",
      "source": [
        "spark_df.show(10)"
      ],
      "metadata": {
        "colab": {
          "base_uri": "https://localhost:8080/"
        },
        "id": "7riuyfJ6aI-F",
        "outputId": "6d36d292-c7b0-4857-f2e2-65dfc539ca31"
      },
      "execution_count": null,
      "outputs": [
        {
          "output_type": "stream",
          "name": "stdout",
          "text": [
            "+------------+----+----------+---------------+---------------+-------------+-------+----------------------+-----------+-------+----+-----------------+-----+-----------------+----------+--------+-----------+-----------+--------------------+------------------+-------------------------------+---------+------------------+\n",
            "|     Country|Year|    Status|Life_expectancy|Adult_Mortality|infant_deaths|Alcohol|percentage_expenditure|Hepatitis_B|Measles| BMI|under-five_deaths|Polio|Total_expenditure|Diphtheria|HIV/AIDS|        GDP| Population|thinness__1-19_years|thinness_5-9_years|Income_composition_of_resources|Schooling|       log_measles|\n",
            "+------------+----+----------+---------------+---------------+-------------+-------+----------------------+-----------+-------+----+-----------------+-----+-----------------+----------+--------+-----------+-----------+--------------------+------------------+-------------------------------+---------+------------------+\n",
            "| Afghanistan|2015|Developing|           65.0|            263|           62|   0.01|           71.27962362|         65|   1154|19.1|               83|    6|             8.16|        65|     0.1|  584.25921|3.3736494E7|                17.2|              17.3|                          0.479|     10.1| 7.051855622955894|\n",
            "|      France|2007|Developing|           89.0|             89|            3|   12.2|           64.73714894|         42|     39|58.6|                3|   99|             1.45|        98|     0.1|  416.58397|  6416229.0|                 0.6|               0.6|                          0.873|     16.1|3.6888794541139363|\n",
            "|       Italy|2008| Developed|           81.5|             61|            2|   7.96|           66.37840495|         96|   1617|59.9|                2|   96|             8.89|        96|     0.1|  464.18465|5.8826731E7|                 0.5|               0.5|                          0.866|     16.3| 7.388946097618437|\n",
            "|      Panama|2014|Developing|           77.6|            119|            1|   6.74|           1842.463782|          8|      0|57.1|                1|    8|              8.3|         8|     0.1| 12593.7374|   393986.0|                 1.9|               1.8|                           0.78|     13.0|               0.0|\n",
            "|      Rwanda|2005|Developing|           55.3|             37|           24|   7.01|           39.44666715|         95|    129|15.4|               38|   95|             6.83|        95|     7.1| 287.931877|  8991735.0|                 6.8|               7.0|                          0.388|      8.8| 4.867534450455582|\n",
            "|    Suriname|2013|Developing|           71.2|            179|            0|   6.02|           1122.972967|         86|      0|57.0|                0|   86|             5.96|        86|     0.4| 9484.56898|    54254.0|                 3.5|               3.5|                          0.719|     12.7|               0.0|\n",
            "|Burkina Faso|2014|Developing|           59.3|            268|           39|   0.01|           8.386339501|         91|    343|18.8|               63|   91|             4.96|        91|     0.6| 75.1464113|1.7585977E7|                 8.2|               7.7|                          0.398|      7.7| 5.840641657373398|\n",
            "|       Chile|2006|Developing|           78.9|             91|            2|   7.33|           1275.689625|         95|      0|58.1|                2|   94|             6.18|        94|     0.1|9484.681227|1.6319792E7|                 0.9|               0.9|                          0.796|     14.9|               0.0|\n",
            "|     Germany|2009| Developed|           80.0|             79|            2|  11.22|           7641.270645|         88|    574|59.5|                3|   95|             11.4|        96|     0.1| 41732.7725|   819237.0|                 1.1|               1.1|                          0.906|     16.7| 6.354370040797351|\n",
            "|      Greece|2007|Developing|           79.4|              8|            0|   9.67|           3632.243121|         95|      2|61.8|                0|   99|             9.41|        99|     0.1|28827.32636|  1148473.0|                 0.8|               0.7|                          0.855|     16.4|1.0986122886681096|\n",
            "+------------+----+----------+---------------+---------------+-------------+-------+----------------------+-----------+-------+----+-----------------+-----+-----------------+----------+--------+-----------+-----------+--------------------+------------------+-------------------------------+---------+------------------+\n",
            "only showing top 10 rows\n",
            "\n"
          ]
        }
      ]
    },
    {
      "cell_type": "code",
      "source": [
        "# 6. Encoding the Data for the type categorical\n",
        "# For country string indexer is applied\n",
        "index_r = StringIndexer(inputCol=\"Country\", outputCol=\"Country_Indexed\")\n",
        "spark_df = index_r.fit(spark_df).transform(spark_df)"
      ],
      "metadata": {
        "id": "_00IBC3t37U7"
      },
      "execution_count": null,
      "outputs": []
    },
    {
      "cell_type": "code",
      "source": [
        "spark_df.show(10)"
      ],
      "metadata": {
        "colab": {
          "base_uri": "https://localhost:8080/"
        },
        "id": "jnbA8qbGarMY",
        "outputId": "2c1813c1-6e2f-4a92-ab51-a97a8ce559c8"
      },
      "execution_count": null,
      "outputs": [
        {
          "output_type": "stream",
          "name": "stdout",
          "text": [
            "+------------+----+----------+---------------+---------------+-------------+-------+----------------------+-----------+-------+----+-----------------+-----+-----------------+----------+--------+-----------+-----------+--------------------+------------------+-------------------------------+---------+------------------+---------------+\n",
            "|     Country|Year|    Status|Life_expectancy|Adult_Mortality|infant_deaths|Alcohol|percentage_expenditure|Hepatitis_B|Measles| BMI|under-five_deaths|Polio|Total_expenditure|Diphtheria|HIV/AIDS|        GDP| Population|thinness__1-19_years|thinness_5-9_years|Income_composition_of_resources|Schooling|       log_measles|Country_Indexed|\n",
            "+------------+----+----------+---------------+---------------+-------------+-------+----------------------+-----------+-------+----+-----------------+-----+-----------------+----------+--------+-----------+-----------+--------------------+------------------+-------------------------------+---------+------------------+---------------+\n",
            "| Afghanistan|2015|Developing|           65.0|            263|           62|   0.01|           71.27962362|         65|   1154|19.1|               83|    6|             8.16|        65|     0.1|  584.25921|3.3736494E7|                17.2|              17.3|                          0.479|     10.1| 7.051855622955894|            0.0|\n",
            "|      France|2007|Developing|           89.0|             89|            3|   12.2|           64.73714894|         42|     39|58.6|                3|   99|             1.45|        98|     0.1|  416.58397|  6416229.0|                 0.6|               0.6|                          0.873|     16.1|3.6888794541139363|           58.0|\n",
            "|       Italy|2008| Developed|           81.5|             61|            2|   7.96|           66.37840495|         96|   1617|59.9|                2|   96|             8.89|        96|     0.1|  464.18465|5.8826731E7|                 0.5|               0.5|                          0.866|     16.3| 7.388946097618437|           79.0|\n",
            "|      Panama|2014|Developing|           77.6|            119|            1|   6.74|           1842.463782|          8|      0|57.1|                1|    8|              8.3|         8|     0.1| 12593.7374|   393986.0|                 1.9|               1.8|                           0.78|     13.0|               0.0|          121.0|\n",
            "|      Rwanda|2005|Developing|           55.3|             37|           24|   7.01|           39.44666715|         95|    129|15.4|               38|   95|             6.83|        95|     7.1| 287.931877|  8991735.0|                 6.8|               7.0|                          0.388|      8.8| 4.867534450455582|          133.0|\n",
            "|    Suriname|2013|Developing|           71.2|            179|            0|   6.02|           1122.972967|         86|      0|57.0|                0|   86|             5.96|        86|     0.4| 9484.56898|    54254.0|                 3.5|               3.5|                          0.719|     12.7|               0.0|          152.0|\n",
            "|Burkina Faso|2014|Developing|           59.3|            268|           39|   0.01|           8.386339501|         91|    343|18.8|               63|   91|             4.96|        91|     0.6| 75.1464113|1.7585977E7|                 8.2|               7.7|                          0.398|      7.7| 5.840641657373398|           25.0|\n",
            "|       Chile|2006|Developing|           78.9|             91|            2|   7.33|           1275.689625|         95|      0|58.1|                2|   94|             6.18|        94|     0.1|9484.681227|1.6319792E7|                 0.9|               0.9|                          0.796|     14.9|               0.0|           33.0|\n",
            "|     Germany|2009| Developed|           80.0|             79|            2|  11.22|           7641.270645|         88|    574|59.5|                3|   95|             11.4|        96|     0.1| 41732.7725|   819237.0|                 1.1|               1.1|                          0.906|     16.7| 6.354370040797351|           62.0|\n",
            "|      Greece|2007|Developing|           79.4|              8|            0|   9.67|           3632.243121|         95|      2|61.8|                0|   99|             9.41|        99|     0.1|28827.32636|  1148473.0|                 0.8|               0.7|                          0.855|     16.4|1.0986122886681096|           64.0|\n",
            "+------------+----+----------+---------------+---------------+-------------+-------+----------------------+-----------+-------+----+-----------------+-----+-----------------+----------+--------+-----------+-----------+--------------------+------------------+-------------------------------+---------+------------------+---------------+\n",
            "only showing top 10 rows\n",
            "\n"
          ]
        }
      ]
    },
    {
      "cell_type": "code",
      "source": [
        "# 7.winnowing for data aggragation\n",
        "# Calculatinf life expentancy with country\n",
        "window_spec = Window.partitionBy(\"Country\")\n",
        "spark_df = spark_df.withColumn(\"avg_life_expectancy_country\",fun.mean(\"Life_expectancy\").over(window_spec))"
      ],
      "metadata": {
        "id": "uvOhja7N37R3"
      },
      "execution_count": null,
      "outputs": []
    },
    {
      "cell_type": "code",
      "source": [
        "spark_df.show(5)"
      ],
      "metadata": {
        "colab": {
          "base_uri": "https://localhost:8080/"
        },
        "id": "3M1VS5Lm37PJ",
        "outputId": "7099f97e-0567-4aa9-e066-4f490c5ecbc1"
      },
      "execution_count": null,
      "outputs": [
        {
          "output_type": "stream",
          "name": "stdout",
          "text": [
            "+-----------+----+----------+---------------+---------------+-------------+-------+----------------------+-----------+-------+----+-----------------+-----+-----------------+----------+--------+-----------+-----------+--------------------+------------------+-------------------------------+---------+------------------+---------------+---------------------------+\n",
            "|    Country|Year|    Status|Life_expectancy|Adult_Mortality|infant_deaths|Alcohol|percentage_expenditure|Hepatitis_B|Measles| BMI|under-five_deaths|Polio|Total_expenditure|Diphtheria|HIV/AIDS|        GDP| Population|thinness__1-19_years|thinness_5-9_years|Income_composition_of_resources|Schooling|       log_measles|Country_Indexed|avg_life_expectancy_country|\n",
            "+-----------+----+----------+---------------+---------------+-------------+-------+----------------------+-----------+-------+----+-----------------+-----+-----------------+----------+--------+-----------+-----------+--------------------+------------------+-------------------------------+---------+------------------+---------------+---------------------------+\n",
            "|Afghanistan|2015|Developing|           65.0|            263|           62|   0.01|           71.27962362|         65|   1154|19.1|               83|    6|             8.16|        65|     0.1|  584.25921|3.3736494E7|                17.2|              17.3|                          0.479|     10.1| 7.051855622955894|            0.0|          58.19374999999999|\n",
            "|Afghanistan|2008|Developing|           58.1|            287|           80|   0.03|           25.87392536|         64|   1599|15.7|              110|   64|             8.33|        64|     0.1|373.3611163|  2729431.0|                18.8|              18.9|                          0.433|      8.7|7.3777589082278725|            0.0|          58.19374999999999|\n",
            "|Afghanistan|2009|Developing|           58.6|            281|           77|   0.01|           56.76221682|         63|   2861|16.2|              106|   63|             9.42|        63|     0.1|445.8932979|   284331.0|                18.6|              18.7|                          0.434|      8.9| 7.959275960116396|            0.0|          58.19374999999999|\n",
            "|Afghanistan|2003|Developing|           56.7|            295|           87|   0.01|           11.08905273|         65|    798|13.4|              122|   41|             8.82|        41|     0.1|198.7285436|  2364851.0|                19.7|              19.9|                          0.373|      6.5| 6.683360945766275|            0.0|          58.19374999999999|\n",
            "|Afghanistan|2013|Developing|           59.9|            268|           66|   0.01|           73.21924272|         64|    430|18.1|               89|   62|             8.13|        64|     0.1| 631.744976|3.1731688E7|                17.7|              17.7|                           0.47|      9.9| 6.066108090103747|            0.0|          58.19374999999999|\n",
            "+-----------+----+----------+---------------+---------------+-------------+-------+----------------------+-----------+-------+----+-----------------+-----+-----------------+----------+--------+-----------+-----------+--------------------+------------------+-------------------------------+---------+------------------+---------------+---------------------------+\n",
            "only showing top 5 rows\n",
            "\n"
          ]
        }
      ]
    },
    {
      "cell_type": "code",
      "source": [
        "# Feature Columns assignment\n",
        "feat_colss = ['Adult_Mortality', 'infant_deaths', 'Alcohol', 'percentage_expenditure',\n",
        "                   'BMI', 'under-five_deaths', 'Polio', 'Total_expenditure', 'Diphtheria',\n",
        "                   'HIV/AIDS', 'thinness__1-19_years', 'thinness_5-9_years',\n",
        "                   'Income_composition_of_resources', 'Schooling']\n",
        "\n",
        "# Assembling the feature as before\n",
        "assemb = VectorAssembler(inputCols=feat_colss,outputCol=\"features\")\n",
        "pred_data = assemb.transform(spark_df).select(\"features\", \"Life_expectancy\")\n"
      ],
      "metadata": {
        "id": "PpPKMJKc37J5"
      },
      "execution_count": null,
      "outputs": []
    },
    {
      "cell_type": "code",
      "source": [
        "# SPlitting into training and testing\n",
        "trained_data, tested_data = pred_data.randomSplit([0.8, 0.2],seed=42)"
      ],
      "metadata": {
        "id": "Mt-Ys9ajcCtb"
      },
      "execution_count": null,
      "outputs": []
    },
    {
      "cell_type": "code",
      "source": [
        "import matplotlib.pyplot as plt\n",
        "from pyspark.ml.regression import LinearRegression\n",
        "from pyspark.ml.regression import RandomForestRegressor\n",
        "from pyspark.ml.regression import GBTRegressor\n",
        "from pyspark.ml.regression import DecisionTreeRegressor\n",
        "from pyspark.ml.regression import LinearRegression\n",
        "from pyspark.ml.evaluation import RegressionEvaluator\n",
        "from pyspark.ml.classification import LogisticRegression"
      ],
      "metadata": {
        "id": "rUhjcVgqd5wf"
      },
      "execution_count": null,
      "outputs": []
    },
    {
      "cell_type": "markdown",
      "source": [
        "Linear Regression model\n"
      ],
      "metadata": {
        "id": "VMZz2qbaeYHd"
      }
    },
    {
      "cell_type": "code",
      "source": [
        "linear = LinearRegression(featuresCol=\"features\", labelCol=\"Life_expectancy\")\n",
        "#fitting\n",
        "linear_mod = linear.fit(trained_data)\n",
        "#transforming\n",
        "linear_pred = linear_mod.transform(tested_data)\n",
        "\n",
        "\n"
      ],
      "metadata": {
        "id": "B3cqdjSL37He"
      },
      "execution_count": null,
      "outputs": []
    },
    {
      "cell_type": "code",
      "source": [
        "# Evaluation\n",
        "eval = RegressionEvaluator(labelCol=\"Life_expectancy\", predictionCol=\"prediction\")\n",
        "linear_rmse = eval.evaluate(linear_pred, {eval.metricName: \"rmse\"})\n",
        "linear_r2 = eval.evaluate(linear_pred, {eval.metricName: \"r2\"})\n",
        "print(f\"LinearRegression Model:RMSE:{linear_rmse},Rsquared: {linear_r2}\")"
      ],
      "metadata": {
        "colab": {
          "base_uri": "https://localhost:8080/"
        },
        "id": "X7Eulu-edoSD",
        "outputId": "2dc89656-0586-48b4-aa8c-0cbed5969682"
      },
      "execution_count": null,
      "outputs": [
        {
          "output_type": "stream",
          "name": "stdout",
          "text": [
            "LinearRegression Model:RMSE:4.156545713631285,Rsquared: 0.8149036079221492\n"
          ]
        }
      ]
    },
    {
      "cell_type": "markdown",
      "source": [
        "Random FOrest Model\n"
      ],
      "metadata": {
        "id": "Wdj6Zdlnedpc"
      }
    },
    {
      "cell_type": "code",
      "source": [
        "randf = RandomForestRegressor(featuresCol=\"features\", labelCol=\"Life_expectancy\")\n",
        "randf_mod = randf.fit(trained_data)\n",
        "randf_pred = randf_mod.transform(tested_data)\n",
        "\n"
      ],
      "metadata": {
        "id": "53rPHT6L37Ec"
      },
      "execution_count": null,
      "outputs": []
    },
    {
      "cell_type": "code",
      "source": [
        "# Evaluate\n",
        "randf_rmse = eval.evaluate(randf_pred, {eval.metricName: \"rmse\"})\n",
        "randf_r2 = eval.evaluate(randf_pred, {eval.metricName: \"r2\"})\n",
        "print(f\"Random ForestModel -RMSE:{randf_rmse},Rsqaured: {randf_r2}\")"
      ],
      "metadata": {
        "colab": {
          "base_uri": "https://localhost:8080/"
        },
        "id": "DNS_DF3af-VO",
        "outputId": "c3f9a8d6-7554-46de-a84e-7e035d4ceb11"
      },
      "execution_count": null,
      "outputs": [
        {
          "output_type": "stream",
          "name": "stdout",
          "text": [
            "Random ForestModel -RMSE:2.8162381397437977,Rsqaured: 0.9150288330702034\n"
          ]
        }
      ]
    },
    {
      "cell_type": "markdown",
      "source": [
        "Gradient Boosting Model"
      ],
      "metadata": {
        "id": "AHShvIEhfOuO"
      }
    },
    {
      "cell_type": "code",
      "source": [
        "gradbt = GBTRegressor(featuresCol=\"features\", labelCol=\"Life_expectancy\", maxIter=10)\n",
        "gradbt_mod = gradbt.fit(trained_data)\n",
        "gradbt_pred = gradbt_mod.transform(tested_data)\n",
        "\n",
        "\n"
      ],
      "metadata": {
        "id": "2bRBw-lLI5z-"
      },
      "execution_count": null,
      "outputs": []
    },
    {
      "cell_type": "code",
      "source": [
        "# Evaluation\n",
        "gradbt_rmse = eval.evaluate(gradbt_pred, {eval.metricName: \"rmse\"})\n",
        "gradbt_r2 = eval.evaluate(gradbt_pred, {eval.metricName: \"r2\"})\n",
        "print(f\"Gradient Boosted Trees Model - RMSE: {gradbt_rmse}, Rsquared: {gradbt_r2}\")"
      ],
      "metadata": {
        "colab": {
          "base_uri": "https://localhost:8080/"
        },
        "id": "-YvWiRjSfvQi",
        "outputId": "0e70fcb3-aedf-4de9-c453-c4b4247713b0"
      },
      "execution_count": null,
      "outputs": [
        {
          "output_type": "stream",
          "name": "stdout",
          "text": [
            "Gradient Boosted Trees Model - RMSE: 2.6918560799827445, Rsquared: 0.9223687633730367\n"
          ]
        }
      ]
    },
    {
      "cell_type": "markdown",
      "source": [
        "Decision Tree Regression model"
      ],
      "metadata": {
        "id": "WpUUyEsogDJP"
      }
    },
    {
      "cell_type": "code",
      "source": [
        "dft = DecisionTreeRegressor(featuresCol=\"features\", labelCol=\"Life_expectancy\")\n",
        "dft_mod = dft.fit(trained_data)\n",
        "dft_pred = dft_mod.transform(tested_data)"
      ],
      "metadata": {
        "id": "K0HIAoLqI5tw"
      },
      "execution_count": null,
      "outputs": []
    },
    {
      "cell_type": "code",
      "source": [
        "# Evaluate\n",
        "dft_rmse = eval.evaluate(dft_pred, {eval.metricName: \"rmse\"})\n",
        "dft_r2 = eval.evaluate(dft_pred, {eval.metricName: \"r2\"})\n",
        "print(f\"Decision Tree -RMSE: {dft_rmse},Rsquared: {dft_r2}\")"
      ],
      "metadata": {
        "colab": {
          "base_uri": "https://localhost:8080/"
        },
        "id": "42-P6mvjgd5O",
        "outputId": "38770a6a-fc9d-49fa-912e-6e8bcf999699"
      },
      "execution_count": null,
      "outputs": [
        {
          "output_type": "stream",
          "name": "stdout",
          "text": [
            "Decision Tree -RMSE: 3.1840643302239497,Rsquared: 0.8913833264415228\n"
          ]
        }
      ]
    },
    {
      "cell_type": "markdown",
      "source": [
        "Lasso Regression mODel"
      ],
      "metadata": {
        "id": "CyHAbVqYhGMD"
      }
    },
    {
      "cell_type": "code",
      "source": [
        "lasso_reg = LinearRegression(featuresCol=\"features\", labelCol=\"Life_expectancy\", regParam=0.1, elasticNetParam=1.0)\n",
        "lasso_reg_mod= lasso_reg.fit(trained_data)\n",
        "lasso_reg_pred = lasso_reg_mod.transform(tested_data)\n",
        "\n",
        "\n"
      ],
      "metadata": {
        "id": "3kg3GzeUI5qR"
      },
      "execution_count": null,
      "outputs": []
    },
    {
      "cell_type": "code",
      "source": [
        "#evaluation\n",
        "eval = RegressionEvaluator(labelCol=\"Life_expectancy\", predictionCol=\"prediction\")\n",
        "lasso_reg_rmse = eval.evaluate(lasso_reg_pred, {eval.metricName: \"rmse\"})\n",
        "lasso_reg_r2 = eval.evaluate(lasso_reg_pred, {eval.metricName: \"r2\"})\n",
        "print(f\"LassoRegression model-RMSE: {lasso_reg_rmse},RsquaRED: {lasso_reg_r2}\")"
      ],
      "metadata": {
        "colab": {
          "base_uri": "https://localhost:8080/"
        },
        "id": "In3gEJ21hj3F",
        "outputId": "c8d1de49-f92d-4cf7-a68c-66b56c0d604e"
      },
      "execution_count": null,
      "outputs": [
        {
          "output_type": "stream",
          "name": "stdout",
          "text": [
            "LassoRegression model-RMSE: 4.285480914508594,RsquaRED: 0.8032421983219803\n"
          ]
        }
      ]
    },
    {
      "cell_type": "code",
      "source": [
        "# Making a categorization task: Life Expectancy: High (>70) vs. Low (<=70)\n",
        "data_class = pred_data.withColumn(\"LifeExpectancyClass\",fun.when(fun.col(\"Life_expectancy\") > 70, 1).otherwise(0))\n",
        "# Splitting Training-Testing for classification\n",
        "trained_data_class, tested_data_class = data_class.randomSplit([0.8, 0.2], seed=42)\n",
        "linear_class = LogisticRegression(featuresCol=\"features\", labelCol=\"LifeExpectancyClass\")\n",
        "linear_class_mod = linear_class.fit(trained_data_class)\n",
        "linear_class_pred = linear_class_mod.transform(tested_data_class)\n",
        "\n",
        "\n"
      ],
      "metadata": {
        "id": "1JrziykPI5mp"
      },
      "execution_count": null,
      "outputs": []
    },
    {
      "cell_type": "code",
      "source": [
        "# Evaluate Classification\n",
        "eval_class = MulticlassClassificationEvaluator(labelCol=\"LifeExpectancyClass\",predictionCol=\"prediction\",metricName=\"accuracy\")\n",
        "accur = eval_class.evaluate(linear_class_pred)\n",
        "# Precision\n",
        "eval_pred = MulticlassClassificationEvaluator(labelCol=\"LifeExpectancyClass\",predictionCol=\"prediction\",\n",
        "    metricName=\"weightedPrecision\")\n",
        "precis = eval_pred.evaluate(linear_class_pred)\n",
        "# Recall\n",
        "eval_recall = MulticlassClassificationEvaluator(labelCol=\"LifeExpectancyClass\",predictionCol=\"prediction\",metricName=\"weightedRecall\")\n",
        "recall_l = eval_recall.evaluate(linear_class_pred)\n",
        "# F1_Score\n",
        "eval_f1 = MulticlassClassificationEvaluator(labelCol=\"LifeExpectancyClass\",\n",
        "          predictionCol=\"prediction\",metricName=\"f1\")\n",
        "\n",
        "\n",
        "\n",
        "\n",
        "\n",
        "scores_f1 = eval_f1.evaluate(linear_class_pred)"
      ],
      "metadata": {
        "id": "UN2h_yvokGEP"
      },
      "execution_count": null,
      "outputs": []
    },
    {
      "cell_type": "code",
      "source": [
        "# Print Metrics\n",
        "print(f\"LogisticRegression Classification  Model- Accuracy: {accur}\")\n",
        "print(f\"LogisticRegression Classification  Model- Precision: {precis}\")\n",
        "print(f\"LogisticRegression Classification  Model - Recall: {recall_l}\")\n",
        "print(f\"LogisticRegression Classification  Model - F1 Score: {scores_f1}\")"
      ],
      "metadata": {
        "colab": {
          "base_uri": "https://localhost:8080/"
        },
        "id": "pF1QQsEdkJrc",
        "outputId": "54c3534b-bb2f-4c54-956b-20b953642087"
      },
      "execution_count": null,
      "outputs": [
        {
          "output_type": "stream",
          "name": "stdout",
          "text": [
            "LogisticRegression Classification  Model- Accuracy: 0.9158878504672897\n",
            "LogisticRegression Classification  Model- Precision: 0.9168340881941472\n",
            "LogisticRegression Classification  Model - Recall: 0.9158878504672898\n",
            "LogisticRegression Classification  Model - F1 Score: 0.9156291454139475\n"
          ]
        }
      ]
    },
    {
      "cell_type": "code",
      "source": [
        "# Metric exmaples for regressionmodles\n",
        "metric_allmodels = {\"Model\": [\"Linear Regression\", \"Random Forest\", \"Gradient Boosting\", \"Decision Tree\", \"Lasso Regression\"],\n",
        "\n",
        "        \"RMSE\": [linear_rmse, randf_rmse, gradbt_rmse, dft_rmse, lasso_reg_rmse],\n",
        "\n",
        "                    \"Rsquared\": [linear_r2, randf_r2, gradbt_r2, dft_r2, lasso_reg_r2]}\n",
        "\n"
      ],
      "metadata": {
        "id": "-FytHudpI5jL",
        "collapsed": true
      },
      "execution_count": null,
      "outputs": []
    },
    {
      "cell_type": "code",
      "source": [
        "# Creating a new data frame using pandas as pd\n",
        "import pandas as pd\n",
        "m_df = pd.DataFrame(metric_allmodels)\n",
        "# plotting bar for RMSE\n",
        "plt.figure(figsize=(20,8))\n",
        "plt.bar(m_df[\"Model\"], m_df[\"RMSE\"], color='yellow')\n",
        "plt.title(\"Model Comparison - RMSE\")\n",
        "plt.xlabel(\"Model\")\n",
        "plt.ylabel(\"RMSE\")\n",
        "plt.show()\n"
      ],
      "metadata": {
        "colab": {
          "base_uri": "https://localhost:8080/",
          "height": 568
        },
        "id": "Q23-OXm1l6MQ",
        "outputId": "f4b590be-f414-440b-cd18-cb7cdb24b524"
      },
      "execution_count": null,
      "outputs": [
        {
          "output_type": "display_data",
          "data": {
            "text/plain": [
              "<Figure size 2000x800 with 1 Axes>"
            ],
            "image/png": "[encoded data removed]"
          },
          "metadata": {}
        }
      ]
    },
    {
      "cell_type": "code",
      "source": [
        "# plotting bar for Rsquared\n",
        "plt.figure(figsize=(20,8))\n",
        "plt.bar(m_df[\"Model\"], m_df[\"Rsquared\"], color='yellow')\n",
        "plt.title(\"Model Comparison - Rsquared\")\n",
        "plt.xlabel(\"Model\")\n",
        "plt.ylabel(\"Rsquared\")\n",
        "plt.show()"
      ],
      "metadata": {
        "colab": {
          "base_uri": "https://localhost:8080/",
          "height": 568
        },
        "id": "uDXBpASDn3BD",
        "outputId": "614ebd25-572c-4c3e-9d3b-bc3436a5fcc5"
      },
      "execution_count": null,
      "outputs": [
        {
          "output_type": "display_data",
          "data": {
            "text/plain": [
              "<Figure size 2000x800 with 1 Axes>"
            ],
            "image/png": "[encoded data removed]"
          },
          "metadata": {}
        }
      ]
    },
    {
      "cell_type": "code",
      "source": [
        "class_metric = {\"Metric\": [\"Accuracy\", \"Precision\", \"Recall\", \"F1 Score\"],\"Logistic Regression\": [0.915,0.916,0.915,0.915]}\n",
        "# Creating new DataFrame\n",
        "class_df = pd.DataFrame(class_metric)\n",
        "# plotting bar graph for Classification Metrics\n",
        "plt.figure(figsize=(20,8))\n",
        "plt.bar(class_df[\"Metric\"], class_df[\"Logistic Regression\"], color='yellow')\n",
        "plt.title(\"LogisticRegression Model with Classification Metrics\")\n",
        "plt.xlabel(\"Metric\")\n",
        "plt.ylabel(\"Score\")\n",
        "plt.show()"
      ],
      "metadata": {
        "colab": {
          "base_uri": "https://localhost:8080/",
          "height": 568
        },
        "id": "8jYJlGPmI5fD",
        "outputId": "196b6821-682b-433d-e6d1-8a74a10f1293",
        "collapsed": true
      },
      "execution_count": null,
      "outputs": [
        {
          "output_type": "display_data",
          "data": {
            "text/plain": [
              "<Figure size 2000x800 with 1 Axes>"
            ],
            "image/png": "[encoded data removed]"
          },
          "metadata": {}
        }
      ]
    },
    {
      "cell_type": "code",
      "source": [
        "!pip install pyngrok"
      ],
      "metadata": {
        "colab": {
          "base_uri": "https://localhost:8080/"
        },
        "id": "5IkLxhh3N-Tq",
        "outputId": "0c0a6793-f2ed-4e97-dbee-3b265640463a"
      },
      "execution_count": null,
      "outputs": [
        {
          "output_type": "stream",
          "name": "stdout",
          "text": [
            "Requirement already satisfied: pyngrok in /usr/local/lib/python3.10/dist-packages (7.2.1)\n",
            "Requirement already satisfied: PyYAML>=5.1 in /usr/local/lib/python3.10/dist-packages (from pyngrok) (6.0.2)\n"
          ]
        }
      ]
    },
    {
      "cell_type": "code",
      "source": [
        "from pyngrok import ngrok\n",
        "!ngrok config add-authtoken 2ooh2ZHelN695sMzArOpUvHTumy_3DqQfFYdHnab23jjr4RFi\n",
        "url_pub = ngrok.connect(4040)\n",
        "print(f\"SparkUI can be accessed here using: {url_pub}\")"
      ],
      "metadata": {
        "colab": {
          "base_uri": "https://localhost:8080/"
        },
        "id": "yJ3VkBi5N-QP",
        "outputId": "e10b7b26-349d-4ad7-8611-317c73851411"
      },
      "execution_count": null,
      "outputs": [
        {
          "output_type": "stream",
          "name": "stdout",
          "text": [
            "Authtoken saved to configuration file: /root/.config/ngrok/ngrok.yml\n"
          ]
        },
        {
          "output_type": "stream",
          "name": "stderr",
          "text": [
            "WARNING:pyngrok.process.ngrok:t=2024-11-26T04:04:21+0000 lvl=warn msg=\"can't bind default web address, trying alternatives\" obj=web addr=127.0.0.1:4040\n"
          ]
        },
        {
          "output_type": "stream",
          "name": "stdout",
          "text": [
            "SparkUI can be accessed here using: NgrokTunnel: \"https://131c-34-125-156-246.ngrok-free.app\" -> \"http://localhost:4040\"\n"
          ]
        }
      ]
    }
  ]
}